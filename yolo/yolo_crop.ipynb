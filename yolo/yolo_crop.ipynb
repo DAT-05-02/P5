{
 "cells": [
  {
   "cell_type": "code",
   "execution_count": 1,
   "id": "initial_id",
   "metadata": {
    "collapsed": true,
    "ExecuteTime": {
     "end_time": "2023-10-19T10:51:35.536562900Z",
     "start_time": "2023-10-19T10:51:35.495487600Z"
    }
   },
   "outputs": [],
   "source": [
    "from PIL import Image\n",
    "import os"
   ]
  },
  {
   "cell_type": "code",
   "execution_count": 2,
   "outputs": [],
   "source": [
    "if not os.path.exists(\"runs/detect/predict/croppedimages\"):\n",
    "    os.mkdir(\"runs/detect/predict/croppedimages\")\n",
    "dest_path = \"runs/detect/predict/croppedimages\""
   ],
   "metadata": {
    "collapsed": false,
    "ExecuteTime": {
     "end_time": "2023-10-19T10:51:35.550239Z",
     "start_time": "2023-10-19T10:51:35.538565600Z"
    }
   },
   "id": "88bfd20ada65d552"
  },
  {
   "cell_type": "code",
   "execution_count": 3,
   "outputs": [],
   "source": [
    "im_path = \"runs/detect/predict\"\n",
    "im_name = os.listdir(\"runs/detect/predict\")[0]"
   ],
   "metadata": {
    "collapsed": false,
    "ExecuteTime": {
     "end_time": "2023-10-19T10:51:35.575261400Z",
     "start_time": "2023-10-19T10:51:35.552239600Z"
    }
   },
   "id": "c949c2509f9ea516"
  },
  {
   "cell_type": "code",
   "execution_count": 4,
   "outputs": [],
   "source": [
    "txt_path = \"runs/detect/predict/labels\"\n",
    "txt_name = os.listdir(\"runs/detect/predict/labels\")[0]"
   ],
   "metadata": {
    "collapsed": false,
    "ExecuteTime": {
     "end_time": "2023-10-19T10:51:35.585263300Z",
     "start_time": "2023-10-19T10:51:35.568264700Z"
    }
   },
   "id": "c8d543c4fba61c7d"
  },
  {
   "cell_type": "code",
   "execution_count": 5,
   "outputs": [
    {
     "name": "stdout",
     "output_type": "stream",
     "text": [
      "runs/detect/predict/labels\n"
     ]
    }
   ],
   "source": [
    "print(txt_path)"
   ],
   "metadata": {
    "collapsed": false,
    "ExecuteTime": {
     "end_time": "2023-10-19T10:51:35.603274800Z",
     "start_time": "2023-10-19T10:51:35.584262400Z"
    }
   },
   "id": "49005bbd9c593587"
  },
  {
   "cell_type": "code",
   "execution_count": 6,
   "outputs": [],
   "source": [
    "f = open(f\"{txt_path}/{txt_name}\", \"r\")"
   ],
   "metadata": {
    "collapsed": false,
    "ExecuteTime": {
     "end_time": "2023-10-19T10:51:35.641791Z",
     "start_time": "2023-10-19T10:51:35.601275Z"
    }
   },
   "id": "81ffb92ac2d292f2"
  },
  {
   "cell_type": "code",
   "execution_count": 7,
   "outputs": [],
   "source": [
    "label_txt = f.read()"
   ],
   "metadata": {
    "collapsed": false,
    "ExecuteTime": {
     "end_time": "2023-10-19T10:51:35.642793600Z",
     "start_time": "2023-10-19T10:51:35.615783600Z"
    }
   },
   "id": "386c944792de32e3"
  },
  {
   "cell_type": "code",
   "execution_count": 8,
   "outputs": [
    {
     "name": "stdout",
     "output_type": "stream",
     "text": [
      "0 0.476335 0.297337 0.254589 0.371054\n"
     ]
    }
   ],
   "source": [
    "print(label_txt)"
   ],
   "metadata": {
    "collapsed": false,
    "ExecuteTime": {
     "end_time": "2023-10-19T10:51:35.653792800Z",
     "start_time": "2023-10-19T10:51:35.629793500Z"
    }
   },
   "id": "91c334f17b024b4e"
  },
  {
   "cell_type": "code",
   "execution_count": 9,
   "outputs": [],
   "source": [
    "label_values = label_txt.split()"
   ],
   "metadata": {
    "collapsed": false,
    "ExecuteTime": {
     "end_time": "2023-10-19T10:51:35.663791900Z",
     "start_time": "2023-10-19T10:51:35.645793400Z"
    }
   },
   "id": "c6b8cc67fff87244"
  },
  {
   "cell_type": "code",
   "execution_count": 10,
   "outputs": [
    {
     "name": "stdout",
     "output_type": "stream",
     "text": [
      "['0', '0.476335', '0.297337', '0.254589', '0.371054']\n"
     ]
    }
   ],
   "source": [
    "print(label_values)"
   ],
   "metadata": {
    "collapsed": false,
    "ExecuteTime": {
     "end_time": "2023-10-19T10:51:35.705899300Z",
     "start_time": "2023-10-19T10:51:35.662792Z"
    }
   },
   "id": "6bfae5ee5082b50d"
  },
  {
   "cell_type": "code",
   "execution_count": 11,
   "outputs": [],
   "source": [
    "# jpg should be deleted from github later\n",
    "im = Image.open(f\"{im_path}/{im_name}\")"
   ],
   "metadata": {
    "collapsed": false,
    "ExecuteTime": {
     "end_time": "2023-10-19T10:51:35.715898700Z",
     "start_time": "2023-10-19T10:51:35.677792Z"
    }
   },
   "id": "783f9b3303ed6d82"
  },
  {
   "cell_type": "code",
   "execution_count": 12,
   "outputs": [],
   "source": [
    "img_width, img_height = im.size"
   ],
   "metadata": {
    "collapsed": false,
    "ExecuteTime": {
     "end_time": "2023-10-19T10:51:35.724929200Z",
     "start_time": "2023-10-19T10:51:35.709899200Z"
    }
   },
   "id": "4c35e282aeb2ed8f"
  },
  {
   "cell_type": "code",
   "execution_count": 13,
   "outputs": [],
   "source": [
    "#From txt file. Get automated later later.\n",
    "#object_class = 0\n",
    "#x_coordinate = 0.290964\n",
    "#y_coordinate = 0.328234\n",
    "#label_width = 0.341944\n",
    "#label_height = 0.534796\n",
    "\n",
    "\n",
    "object_class = float(label_values[0])\n",
    "x_coordinate = float(label_values[1])\n",
    "y_coordinate = float(label_values[2])\n",
    "label_width = float(label_values[3])\n",
    "label_height = float(label_values[4])\n",
    "#print(object_class) \n",
    "#print(x_coordinate) \n",
    "#print(y_coordinate) \n",
    "#print(label_width) \n",
    "#print(label_height)\n",
    "\n",
    "label_enlarge = 1.1\n",
    "\n",
    "left = img_width * (x_coordinate - label_width / 2 * label_enlarge)\n",
    "top = img_height * (y_coordinate - label_height / 2 * label_enlarge)\n",
    "right = img_width * (x_coordinate + label_width / 2 * label_enlarge)\n",
    "bottom = img_height * (y_coordinate + label_height / 2 * label_enlarge)"
   ],
   "metadata": {
    "collapsed": false,
    "ExecuteTime": {
     "end_time": "2023-10-19T10:51:35.753930800Z",
     "start_time": "2023-10-19T10:51:35.723930200Z"
    }
   },
   "id": "b641b5d65c7c884"
  },
  {
   "cell_type": "code",
   "execution_count": 14,
   "outputs": [
    {
     "name": "stdout",
     "output_type": "stream",
     "text": [
      "0.0\n",
      "1518.44439075\n",
      "298.7963892\n",
      "2782.86065925\n",
      "1606.5391068000001\n"
     ]
    }
   ],
   "source": [
    "#delete later\n",
    "print(object_class)\n",
    "print(left)\n",
    "print(top)\n",
    "print(right)\n",
    "print(bottom)"
   ],
   "metadata": {
    "collapsed": false,
    "ExecuteTime": {
     "end_time": "2023-10-19T10:51:35.754929600Z",
     "start_time": "2023-10-19T10:51:35.741931300Z"
    }
   },
   "id": "9ff8fcec5f672cc3"
  },
  {
   "cell_type": "code",
   "execution_count": 15,
   "outputs": [],
   "source": [
    "#delete later\n",
    "left = round(left)\n",
    "top = round(top)\n",
    "right = round(right)\n",
    "bottom= round(bottom)"
   ],
   "metadata": {
    "collapsed": false,
    "ExecuteTime": {
     "end_time": "2023-10-19T10:51:35.770966Z",
     "start_time": "2023-10-19T10:51:35.755930200Z"
    }
   },
   "id": "a38e816046f19d54"
  },
  {
   "cell_type": "code",
   "execution_count": 16,
   "outputs": [],
   "source": [
    "im1 = im.crop((left, top, right, bottom))"
   ],
   "metadata": {
    "collapsed": false,
    "ExecuteTime": {
     "end_time": "2023-10-19T10:51:35.832371400Z",
     "start_time": "2023-10-19T10:51:35.770966Z"
    }
   },
   "id": "f7d03ec20ec4af38"
  },
  {
   "cell_type": "code",
   "execution_count": 17,
   "outputs": [],
   "source": [
    "im1.save(fp=f\"{dest_path}/{im_name}\")"
   ],
   "metadata": {
    "collapsed": false,
    "ExecuteTime": {
     "end_time": "2023-10-19T10:51:35.847371100Z",
     "start_time": "2023-10-19T10:51:35.832371400Z"
    }
   },
   "id": "c34f618e35d24a18"
  },
  {
   "cell_type": "code",
   "execution_count": 18,
   "outputs": [],
   "source": [
    "f.close()"
   ],
   "metadata": {
    "collapsed": false,
    "ExecuteTime": {
     "end_time": "2023-10-19T10:51:35.871369400Z",
     "start_time": "2023-10-19T10:51:35.848372700Z"
    }
   },
   "id": "b2e645dfe3901280"
  },
  {
   "cell_type": "code",
   "execution_count": 18,
   "outputs": [],
   "source": [],
   "metadata": {
    "collapsed": false,
    "ExecuteTime": {
     "end_time": "2023-10-19T10:51:35.878370100Z",
     "start_time": "2023-10-19T10:51:35.863371Z"
    }
   },
   "id": "5d5b100d1adb6991"
  }
 ],
 "metadata": {
  "kernelspec": {
   "display_name": "Python 3",
   "language": "python",
   "name": "python3"
  },
  "language_info": {
   "codemirror_mode": {
    "name": "ipython",
    "version": 2
   },
   "file_extension": ".py",
   "mimetype": "text/x-python",
   "name": "python",
   "nbconvert_exporter": "python",
   "pygments_lexer": "ipython2",
   "version": "2.7.6"
  }
 },
 "nbformat": 4,
 "nbformat_minor": 5
}
