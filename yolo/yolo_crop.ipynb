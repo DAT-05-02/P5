{
 "cells": [
  {
   "cell_type": "code",
   "execution_count": null,
   "outputs": [],
   "source": [
    "def load_img(txt_path, img_path, path):\n",
    "    img_name = os.path.splitext(f\"{path.name}\")[0]\n",
    "    img_ext = os.path.splitext(f\"{path.name}\")[1]\n",
    "    \n",
    "    f = open(f\"{txt_path}/{img_name}.txt\", \"r\")\n",
    "\n",
    "    label_txt = f.read()\n",
    "    label_values = label_txt.split()\n",
    "    f.close()\n",
    "    img = Image.open(f\"{img_path}/{img_name}{img_ext}\")\n",
    "    img_width, img_height = img.size\n",
    "\n",
    "    object_class = float(label_values[0])\n",
    "    x_coordinate = float(label_values[1])\n",
    "    y_coordinate = float(label_values[2])\n",
    "    label_width = float(label_values[3])\n",
    "    label_height = float(label_values[4])\n",
    "    \n",
    "    label_enlarge = 1.1\n",
    "    \n",
    "    left = img_width * (x_coordinate - label_width / 2 * label_enlarge)\n",
    "    top = img_height * (y_coordinate - label_height / 2 * label_enlarge)\n",
    "    right = img_width * (x_coordinate + label_width / 2 * label_enlarge)\n",
    "    bottom = img_height * (y_coordinate + label_height / 2 * label_enlarge)\n",
    "    \n",
    "    fcorners = [left, top, right, bottom]\n",
    "    \n",
    "    return fcorners\n"
   ],
   "metadata": {
    "collapsed": false
   },
   "id": "4c87607090a26013"
  },
  {
   "cell_type": "code",
   "execution_count": null,
   "outputs": [],
   "source": [
    "from PIL import Image\n",
    "import os\n",
    "\n",
    "if not os.path.exists(\"runs/detect/predict/croppedimages\"):\n",
    "    os.mkdir(\"runs/detect/predict/croppedimages\")\n",
    "dest_path = \"runs/detect/predict/croppedimages\"\n",
    "img_path = \"runs/detect/predict\"\n",
    "txt_path = \"runs/detect/predict/labels\"\n",
    "\n",
    "\n",
    "for path in os.scandir(img_path):\n",
    "    \n",
    "    if path.is_file():\n",
    "        name = os.path.splitext(f\"{path.name}\")[0]\n",
    "        if os.path.exists(f\"{txt_path}/{name}.txt\"):\n",
    "            img = Image.open(f\"{path.path}\")\n",
    "        \n",
    "            corners = load_img(txt_path, img_path, path)\n",
    "            #img1 = img.crop((left, top, right, bottom))\n",
    "            img1 = img.crop((corners[0], corners[1], corners[2], corners[3]))\n",
    "\n",
    "            img1.save(fp=f\"{dest_path}/{path.name}\")\n",
    "\n"
   ],
   "metadata": {
    "collapsed": false
   },
   "id": "8f51d9a262fc5b17"
  },
  {
   "cell_type": "code",
   "execution_count": null,
   "outputs": [],
   "source": [],
   "metadata": {
    "collapsed": false
   },
   "id": "9beec123df30948b"
  }
 ],
 "metadata": {
  "kernelspec": {
   "display_name": "Python 3",
   "language": "python",
   "name": "python3"
  },
  "language_info": {
   "codemirror_mode": {
    "name": "ipython",
    "version": 2
   },
   "file_extension": ".py",
   "mimetype": "text/x-python",
   "name": "python",
   "nbconvert_exporter": "python",
   "pygments_lexer": "ipython2",
   "version": "2.7.6"
  }
 },
 "nbformat": 4,
 "nbformat_minor": 5
}
